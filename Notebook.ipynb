{
 "cells": [
  {
   "cell_type": "markdown",
   "metadata": {},
   "source": [
    "## Penney's Game "
   ]
  },
  {
   "cell_type": "code",
   "execution_count": 1,
   "metadata": {},
   "outputs": [],
   "source": [
    "from penney.functions import menu"
   ]
  },
  {
   "cell_type": "code",
   "execution_count": 2,
   "metadata": {},
   "outputs": [
    {
     "name": "stdout",
     "output_type": "stream",
     "text": [
      "Play with computer [1]\n",
      "Play with other players [any other key]\n",
      "Please select : 1\n",
      "Please enter number of rounds : 5\n",
      "Please enter sequence length : 3\n",
      "Please enter player-1 name : Sepand\n",
      "Computer sequence : THH\n",
      "[Sepand] Please enter your sequence : HTT\n",
      "###########\n",
      "Wining Probability : \n",
      "Sepand       50.00000%\n",
      "Computer     50.00000%\n",
      "###########\n",
      "Round 1\n",
      "HTHH\n",
      "Point for --> Computer\n",
      "###########\n",
      "Round 2\n",
      "TTTTHH\n",
      "Point for --> Computer\n",
      "###########\n",
      "Round 3\n",
      "HTT\n",
      "Point for --> Sepand\n",
      "###########\n",
      "Round 4\n",
      "HHTT\n",
      "Point for --> Sepand\n",
      "###########\n",
      "Round 5\n",
      "HHHHHTHH\n",
      "Point for --> Computer\n",
      "###########\n",
      "Scores Table : \n",
      "Computer     3   THH\n",
      "Sepand       2   HTT\n",
      "Winner : Computer\n"
     ]
    }
   ],
   "source": [
    "menu()"
   ]
  }
 ],
 "metadata": {
  "kernelspec": {
   "display_name": "Python 3",
   "language": "python",
   "name": "python3"
  },
  "language_info": {
   "codemirror_mode": {
    "name": "ipython",
    "version": 3
   },
   "file_extension": ".py",
   "mimetype": "text/x-python",
   "name": "python",
   "nbconvert_exporter": "python",
   "pygments_lexer": "ipython3",
   "version": "3.5.2"
  }
 },
 "nbformat": 4,
 "nbformat_minor": 2
}
